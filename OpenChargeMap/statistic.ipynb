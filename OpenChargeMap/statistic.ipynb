{
 "cells": [
  {
   "cell_type": "code",
   "execution_count": 1,
   "id": "dffe35b3",
   "metadata": {},
   "outputs": [
    {
     "data": {
      "text/plain": [
       "'\\n多少站\\n多少桩\\n功率\\n采样率\\n'"
      ]
     },
     "execution_count": 1,
     "metadata": {},
     "output_type": "execute_result"
    }
   ],
   "source": [
    "import pandas as pd\n",
    "import json, os\n",
    "\n",
    "\"\"\"\n",
    "多少站\n",
    "多少桩\n",
    "功率\n",
    "采样率\n",
    "\"\"\""
   ]
  },
  {
   "cell_type": "code",
   "execution_count": 4,
   "id": "dc664b2f",
   "metadata": {},
   "outputs": [],
   "source": [
    "countries = pd.read_csv(\"Data2025\\\\CountryList.csv\", dtype=str)\n",
    "countries.fillna({\"ISO\": \"NA\"}, inplace=True)"
   ]
  },
  {
   "cell_type": "code",
   "execution_count": 6,
   "id": "5f4fb6cc",
   "metadata": {},
   "outputs": [],
   "source": [
    "result = []\n",
    "for country in countries[\"ISO\"].to_list():\n",
    "    path = os.path.join(\"Data2025\", country + \"Charger\")\n",
    "    with open(path + \".json\", 'r') as j:\n",
    "        data = json.load(j)\n",
    "    chargingNum = 0\n",
    "    power = set()\n",
    "    fastStation = 0\n",
    "    fastCharging = 0\n",
    "    for i in data:\n",
    "        NoP = 0 if i[\"NumberOfPoints\"] is None else i[\"NumberOfPoints\"]\n",
    "        Q = 0\n",
    "        fast = False\n",
    "        if i[\"Connections\"] == []:\n",
    "            Q += 1\n",
    "        else:\n",
    "            for j in i[\"Connections\"]:\n",
    "                quantity = j[\"Quantity\"]\n",
    "                powerKW = j[\"PowerKW\"]\n",
    "                if quantity is None:\n",
    "                    Q += 1\n",
    "                else:\n",
    "                    Q += quantity\n",
    "                power.add(powerKW)\n",
    "                if powerKW is not None and powerKW >= 20:\n",
    "                    fastCharging += 1\n",
    "                    if not fast:\n",
    "                        fastStation += 1\n",
    "                        fast = True\n",
    "        chargingNum += max(NoP, Q)\n",
    "    \n",
    "    index = countries[countries[\"ISO\"] == country]\n",
    "    SiW = index[\"Location Number\"].tolist()[0] if not index.empty else None\n",
    "    CiW = index[\"Station Number\"].tolist()[0] if not index.empty else None\n",
    "    d = {\n",
    "        \"Country\": country,\n",
    "        \"StationNum\": len(data),\n",
    "        \"StationNum in Web\": SiW,\n",
    "        \"ChargingNum\": chargingNum,\n",
    "        \"ChargingNum in Web\": CiW,\n",
    "        \"Power\": power,\n",
    "        \"Fast Station Num (Contain at least one fast charging)\": fastStation,\n",
    "        \"Fast Charging Num (Power >= 20kW)\": fastCharging,\n",
    "    }\n",
    "    result.append(d)\n",
    "pd.DataFrame(result).to_csv(\"statistic.csv\", encoding=\"utf-8\")"
   ]
  },
  {
   "cell_type": "markdown",
   "id": "c6ceee2d",
   "metadata": {},
   "source": [
    "Summary cleanded data"
   ]
  },
  {
   "cell_type": "code",
   "execution_count": 37,
   "id": "48558dfd",
   "metadata": {},
   "outputs": [],
   "source": [
    "import geopandas as gpd\n",
    "\n",
    "station = gpd.read_file(r\"C:\\\\Users\\\\tengd\\\\OneDrive - The Hong Kong Polytechnic University\\\\Student Assistant\\\\EVCharger\\\\ArcGISProcess\\\\EVCharger.gdb\",layer=\"OCM_Station\")\n",
    "charging = gpd.read_file(r\"C:\\\\Users\\\\tengd\\\\OneDrive - The Hong Kong Polytechnic University\\\\Student Assistant\\\\EVCharger\\\\ArcGISProcess\\\\EVCharger.gdb\",layer=\"OCM_Charging\")\n",
    "\n",
    "station.drop(station.loc[station[\"City\"] == \"X\"].index, inplace=True)\n",
    "station.set_index(\"UUID\", inplace=True)"
   ]
  },
  {
   "cell_type": "code",
   "execution_count": 38,
   "id": "84fb4704",
   "metadata": {},
   "outputs": [],
   "source": [
    "pointsNum = charging.groupby(\"UUID\")[\"Correct_Quantity\"].sum().reset_index()\n",
    "pointsNum.set_index(\"UUID\", inplace=True)\n",
    "station = station.join(pointsNum, how=\"left\")\n",
    "station[\"ChargingNum\"] = station[[\"Correct_Quantity\", \"correct_NumberOfPoints\"]].max(axis=1).astype(int)"
   ]
  },
  {
   "cell_type": "code",
   "execution_count": 39,
   "id": "b8375e97",
   "metadata": {},
   "outputs": [],
   "source": [
    "chargingNum = station.groupby([\"country\", \"City\"])[\"ChargingNum\"].sum().reset_index()\n",
    "chargingNum.set_index([\"country\", \"City\"], inplace=True)\n",
    "stationNum = station.groupby([\"country\", \"City\"]).size().reset_index(name=\"StationNum\")\n",
    "stationNum.set_index([\"country\", \"City\"], inplace=True)"
   ]
  },
  {
   "cell_type": "code",
   "execution_count": 43,
   "id": "eac9bee9",
   "metadata": {},
   "outputs": [],
   "source": [
    "all = stationNum.join(chargingNum, how=\"left\")\n",
    "all.to_csv(\"statistic_clean.csv\", encoding=\"utf-8\")\n",
    "all.groupby(\"country\").sum().to_csv(\"statistic_clean_country.csv\", encoding=\"utf-8\")"
   ]
  }
 ],
 "metadata": {
  "kernelspec": {
   "display_name": "Python 3",
   "language": "python",
   "name": "python3"
  },
  "language_info": {
   "codemirror_mode": {
    "name": "ipython",
    "version": 3
   },
   "file_extension": ".py",
   "mimetype": "text/x-python",
   "name": "python",
   "nbconvert_exporter": "python",
   "pygments_lexer": "ipython3",
   "version": "3.13.4"
  }
 },
 "nbformat": 4,
 "nbformat_minor": 5
}
